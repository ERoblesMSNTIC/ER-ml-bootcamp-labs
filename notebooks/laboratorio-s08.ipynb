{
 "cells": [
  {
   "cell_type": "markdown",
   "id": "3459963f",
   "metadata": {},
   "source": [
    "## 4. Modelamiento"
   ]
  },
  {
   "cell_type": "code",
   "execution_count": null,
   "id": "9e8e5f54",
   "metadata": {},
   "outputs": [],
   "source": [
    "# Carga de librerías para modelos\n",
    "from sklearn.tree import DecisionTreeClassifier\n",
    "from sklearn.neighbors import KNeighborsClassifier\n",
    "from sklearn.svm import SVC\n"
   ]
  },
  {
   "cell_type": "code",
   "execution_count": null,
   "id": "25666ef9",
   "metadata": {},
   "outputs": [],
   "source": [
    "X = df_balanced.drop(columns=[\"Event_Type\"])\n",
    "y = df_balanced.Event_Type\n",
    "X_train, X_test, y_train, y_test = train_test_split(X,y, train_size= 0.8, random_state=23)"
   ]
  },
  {
   "cell_type": "code",
   "execution_count": null,
   "id": "929a91f9",
   "metadata": {},
   "outputs": [],
   "source": []
  }
 ],
 "metadata": {
  "language_info": {
   "name": "python"
  }
 },
 "nbformat": 4,
 "nbformat_minor": 5
}
