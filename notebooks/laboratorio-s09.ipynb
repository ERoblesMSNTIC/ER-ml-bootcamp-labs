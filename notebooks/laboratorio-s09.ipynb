{
 "cells": [
  {
   "cell_type": "code",
   "execution_count": 4,
   "id": "8a1a277c",
   "metadata": {},
   "outputs": [],
   "source": [
    "import pickle\n",
    "import pandas as pd"
   ]
  },
  {
   "cell_type": "code",
   "execution_count": 3,
   "id": "1f10d4fe",
   "metadata": {},
   "outputs": [],
   "source": [
    "# Importación de objetos en modo binario (b) y de lectura (r)\n",
    "with open('archivo.pkl','rb') as file:\n",
    "    arreglo_ejemplo = pickle.load(file)"
   ]
  },
  {
   "cell_type": "markdown",
   "id": "3c4c06c0",
   "metadata": {},
   "source": [
    "# Predicción del modelo guardado en Pickle"
   ]
  },
  {
   "cell_type": "code",
   "execution_count": 7,
   "id": "faae8749",
   "metadata": {},
   "outputs": [],
   "source": [
    "with open('/workspaces/ER-ml-bootcamp-labs/models/model_op.pkl','rb') as file:\n",
    "    model = pickle.load(file)"
   ]
  },
  {
   "cell_type": "code",
   "execution_count": 5,
   "id": "fbfcdd45",
   "metadata": {},
   "outputs": [],
   "source": [
    "# Para predicciones nuevas:\n",
    "# Creamos un diccionario que recoge los datos\n",
    "# El orden de las columnas debe respetarse\n",
    "# Luego se \n",
    "\n",
    "diccionario_datos = {\n",
    "    'Well_ID':1.0,\n",
    "    'Pressure': 2750,\n",
    "    'Temperature':200.5,\n",
    "    'Flow_Rate':515.1,\n",
    "    'Pump_Speed':1600.1,\n",
    "    'Gas_Oil_Ratio':999.9,\n",
    "    'Water_Cut':0.5,\n",
    "    'Vibration':5.12,\n",
    "    'Maintenance_Required':0,\n",
    "    'Downtime':22.5,\n",
    "}\n",
    "\n",
    "new_data = pd.DataFrame(diccionario_datos, index=[0])"
   ]
  },
  {
   "cell_type": "code",
   "execution_count": 6,
   "id": "bd7b9c82",
   "metadata": {},
   "outputs": [
    {
     "data": {
      "application/vnd.microsoft.datawrangler.viewer.v0+json": {
       "columns": [
        {
         "name": "index",
         "rawType": "int64",
         "type": "integer"
        },
        {
         "name": "Well_ID",
         "rawType": "float64",
         "type": "float"
        },
        {
         "name": "Pressure",
         "rawType": "int64",
         "type": "integer"
        },
        {
         "name": "Temperature",
         "rawType": "float64",
         "type": "float"
        },
        {
         "name": "Flow_Rate",
         "rawType": "float64",
         "type": "float"
        },
        {
         "name": "Pump_Speed",
         "rawType": "float64",
         "type": "float"
        },
        {
         "name": "Gas_Oil_Ratio",
         "rawType": "float64",
         "type": "float"
        },
        {
         "name": "Water_Cut",
         "rawType": "float64",
         "type": "float"
        },
        {
         "name": "Vibration",
         "rawType": "float64",
         "type": "float"
        },
        {
         "name": "Maintenance_Required",
         "rawType": "int64",
         "type": "integer"
        },
        {
         "name": "Downtime",
         "rawType": "float64",
         "type": "float"
        }
       ],
       "ref": "55a6e204-aea4-476e-b929-3642bb0a7ec8",
       "rows": [
        [
         "0",
         "1.0",
         "2750",
         "200.5",
         "515.1",
         "1600.1",
         "999.9",
         "0.5",
         "5.12",
         "0",
         "22.5"
        ]
       ],
       "shape": {
        "columns": 10,
        "rows": 1
       }
      },
      "text/html": [
       "<div>\n",
       "<style scoped>\n",
       "    .dataframe tbody tr th:only-of-type {\n",
       "        vertical-align: middle;\n",
       "    }\n",
       "\n",
       "    .dataframe tbody tr th {\n",
       "        vertical-align: top;\n",
       "    }\n",
       "\n",
       "    .dataframe thead th {\n",
       "        text-align: right;\n",
       "    }\n",
       "</style>\n",
       "<table border=\"1\" class=\"dataframe\">\n",
       "  <thead>\n",
       "    <tr style=\"text-align: right;\">\n",
       "      <th></th>\n",
       "      <th>Well_ID</th>\n",
       "      <th>Pressure</th>\n",
       "      <th>Temperature</th>\n",
       "      <th>Flow_Rate</th>\n",
       "      <th>Pump_Speed</th>\n",
       "      <th>Gas_Oil_Ratio</th>\n",
       "      <th>Water_Cut</th>\n",
       "      <th>Vibration</th>\n",
       "      <th>Maintenance_Required</th>\n",
       "      <th>Downtime</th>\n",
       "    </tr>\n",
       "  </thead>\n",
       "  <tbody>\n",
       "    <tr>\n",
       "      <th>0</th>\n",
       "      <td>1.0</td>\n",
       "      <td>2750</td>\n",
       "      <td>200.5</td>\n",
       "      <td>515.1</td>\n",
       "      <td>1600.1</td>\n",
       "      <td>999.9</td>\n",
       "      <td>0.5</td>\n",
       "      <td>5.12</td>\n",
       "      <td>0</td>\n",
       "      <td>22.5</td>\n",
       "    </tr>\n",
       "  </tbody>\n",
       "</table>\n",
       "</div>"
      ],
      "text/plain": [
       "   Well_ID  Pressure  Temperature  Flow_Rate  Pump_Speed  Gas_Oil_Ratio  \\\n",
       "0      1.0      2750        200.5      515.1      1600.1          999.9   \n",
       "\n",
       "   Water_Cut  Vibration  Maintenance_Required  Downtime  \n",
       "0        0.5       5.12                     0      22.5  "
      ]
     },
     "execution_count": 6,
     "metadata": {},
     "output_type": "execute_result"
    }
   ],
   "source": [
    "new_data"
   ]
  },
  {
   "cell_type": "code",
   "execution_count": 8,
   "id": "9bc48f60",
   "metadata": {},
   "outputs": [
    {
     "data": {
      "text/plain": [
       "array([2.])"
      ]
     },
     "execution_count": 8,
     "metadata": {},
     "output_type": "execute_result"
    }
   ],
   "source": [
    "# Recordamos que el modelo ya fue importado desde sesiones anteriores y ahora el objetivo es solamente utilizarlo\n",
    "\n",
    "model.predict(new_data)"
   ]
  },
  {
   "cell_type": "code",
   "execution_count": 13,
   "id": "77a7ce14",
   "metadata": {},
   "outputs": [],
   "source": [
    "# Función que se encarga de automatizar la carga y predicción de datos nuevos:\n",
    "\n",
    "def prediccion_datos(well_id, pressure, temp, flow, pump, gas_oil, water, vibration, maintenance, downtime):\n",
    "    diccionario_datos = {\n",
    "        'Well_ID':well_id,\n",
    "        'Pressure': pressure,\n",
    "        'Temperature': temp,\n",
    "        'Flow_Rate': flow,\n",
    "        'Pump_Speed': pump,\n",
    "        'Gas_Oil_Ratio': gas_oil,\n",
    "        'Water_Cut': water,\n",
    "        'Vibration': vibration,\n",
    "        'Maintenance_Required': maintenance,\n",
    "        'Downtime': downtime,\n",
    "    }\n",
    "\n",
    "    new_data = pd.DataFrame(diccionario_datos, index=[0])\n",
    "    return model.predict(new_data)\n"
   ]
  },
  {
   "cell_type": "code",
   "execution_count": 9,
   "id": "b2195082",
   "metadata": {},
   "outputs": [
    {
     "data": {
      "application/vnd.microsoft.datawrangler.viewer.v0+json": {
       "columns": [
        {
         "name": "index",
         "rawType": "int64",
         "type": "integer"
        },
        {
         "name": "Well_ID",
         "rawType": "float64",
         "type": "float"
        },
        {
         "name": "Pressure",
         "rawType": "int64",
         "type": "integer"
        },
        {
         "name": "Temperature",
         "rawType": "float64",
         "type": "float"
        },
        {
         "name": "Flow_Rate",
         "rawType": "float64",
         "type": "float"
        },
        {
         "name": "Pump_Speed",
         "rawType": "float64",
         "type": "float"
        },
        {
         "name": "Gas_Oil_Ratio",
         "rawType": "float64",
         "type": "float"
        },
        {
         "name": "Water_Cut",
         "rawType": "float64",
         "type": "float"
        },
        {
         "name": "Vibration",
         "rawType": "float64",
         "type": "float"
        },
        {
         "name": "Maintenance_Required",
         "rawType": "int64",
         "type": "integer"
        },
        {
         "name": "Downtime",
         "rawType": "float64",
         "type": "float"
        }
       ],
       "ref": "9ff373a7-e3c3-4777-be28-f3cfcfa8b703",
       "rows": [
        [
         "0",
         "1.0",
         "2750",
         "200.5",
         "515.1",
         "1600.1",
         "999.9",
         "0.5",
         "5.12",
         "0",
         "22.5"
        ]
       ],
       "shape": {
        "columns": 10,
        "rows": 1
       }
      },
      "text/html": [
       "<div>\n",
       "<style scoped>\n",
       "    .dataframe tbody tr th:only-of-type {\n",
       "        vertical-align: middle;\n",
       "    }\n",
       "\n",
       "    .dataframe tbody tr th {\n",
       "        vertical-align: top;\n",
       "    }\n",
       "\n",
       "    .dataframe thead th {\n",
       "        text-align: right;\n",
       "    }\n",
       "</style>\n",
       "<table border=\"1\" class=\"dataframe\">\n",
       "  <thead>\n",
       "    <tr style=\"text-align: right;\">\n",
       "      <th></th>\n",
       "      <th>Well_ID</th>\n",
       "      <th>Pressure</th>\n",
       "      <th>Temperature</th>\n",
       "      <th>Flow_Rate</th>\n",
       "      <th>Pump_Speed</th>\n",
       "      <th>Gas_Oil_Ratio</th>\n",
       "      <th>Water_Cut</th>\n",
       "      <th>Vibration</th>\n",
       "      <th>Maintenance_Required</th>\n",
       "      <th>Downtime</th>\n",
       "    </tr>\n",
       "  </thead>\n",
       "  <tbody>\n",
       "    <tr>\n",
       "      <th>0</th>\n",
       "      <td>1.0</td>\n",
       "      <td>2750</td>\n",
       "      <td>200.5</td>\n",
       "      <td>515.1</td>\n",
       "      <td>1600.1</td>\n",
       "      <td>999.9</td>\n",
       "      <td>0.5</td>\n",
       "      <td>5.12</td>\n",
       "      <td>0</td>\n",
       "      <td>22.5</td>\n",
       "    </tr>\n",
       "  </tbody>\n",
       "</table>\n",
       "</div>"
      ],
      "text/plain": [
       "   Well_ID  Pressure  Temperature  Flow_Rate  Pump_Speed  Gas_Oil_Ratio  \\\n",
       "0      1.0      2750        200.5      515.1      1600.1          999.9   \n",
       "\n",
       "   Water_Cut  Vibration  Maintenance_Required  Downtime  \n",
       "0        0.5       5.12                     0      22.5  "
      ]
     },
     "execution_count": 9,
     "metadata": {},
     "output_type": "execute_result"
    }
   ],
   "source": [
    "new_data"
   ]
  },
  {
   "cell_type": "code",
   "execution_count": 15,
   "id": "fa6f96ac",
   "metadata": {},
   "outputs": [
    {
     "data": {
      "text/plain": [
       "Index(['Well_ID', 'Pressure', 'Temperature', 'Flow_Rate', 'Pump_Speed',\n",
       "       'Gas_Oil_Ratio', 'Water_Cut', 'Vibration', 'Maintenance_Required',\n",
       "       'Downtime'],\n",
       "      dtype='object')"
      ]
     },
     "execution_count": 15,
     "metadata": {},
     "output_type": "execute_result"
    }
   ],
   "source": [
    "new_data.columns"
   ]
  },
  {
   "cell_type": "code",
   "execution_count": null,
   "id": "213040ff",
   "metadata": {},
   "outputs": [
    {
     "data": {
      "text/plain": [
       "array([1.])"
      ]
     },
     "execution_count": 14,
     "metadata": {},
     "output_type": "execute_result"
    }
   ],
   "source": [
    "prediccion_datos(\n",
    "    10,\n",
    "    1500,\n",
    "    190,\n",
    "    250,\n",
    "    10,\n",
    "    500,\n",
    "    0.1,\n",
    "    6,\n",
    "    1,\n",
    "    20)"
   ]
  }
 ],
 "metadata": {
  "kernelspec": {
   "display_name": "Python 3",
   "language": "python",
   "name": "python3"
  },
  "language_info": {
   "codemirror_mode": {
    "name": "ipython",
    "version": 3
   },
   "file_extension": ".py",
   "mimetype": "text/x-python",
   "name": "python",
   "nbconvert_exporter": "python",
   "pygments_lexer": "ipython3",
   "version": "3.12.1"
  }
 },
 "nbformat": 4,
 "nbformat_minor": 5
}
